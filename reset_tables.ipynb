{
 "cells": [
  {
   "cell_type": "code",
   "execution_count": 2,
   "metadata": {},
   "outputs": [],
   "source": [
    "import sqlite3"
   ]
  },
  {
   "cell_type": "code",
   "execution_count": 10,
   "metadata": {},
   "outputs": [],
   "source": [
    "conn = sqlite3.connect('weather_cal.db')\n",
    "conn.close()"
   ]
  },
  {
   "cell_type": "code",
   "execution_count": 12,
   "metadata": {},
   "outputs": [
    {
     "ename": "KeyboardInterrupt",
     "evalue": "",
     "output_type": "error",
     "traceback": [
      "\u001b[0;31m---------------------------------------------------------------------------\u001b[0m",
      "\u001b[0;31mOperationalError\u001b[0m                          Traceback (most recent call last)",
      "Cell \u001b[0;32mIn[12], line 20\u001b[0m\n\u001b[1;32m     19\u001b[0m c \u001b[39m=\u001b[39m conn\u001b[39m.\u001b[39mcursor()\n\u001b[0;32m---> 20\u001b[0m c\u001b[39m.\u001b[39;49mexecute(\u001b[39m'''\u001b[39;49m\u001b[39mDROP TABLE windspeed\u001b[39;49m\u001b[39m'''\u001b[39;49m)\n\u001b[1;32m     21\u001b[0m conn\u001b[39m.\u001b[39mclose()\n",
      "\u001b[0;31mOperationalError\u001b[0m: database is locked",
      "\nDuring handling of the above exception, another exception occurred:\n",
      "\u001b[0;31mKeyboardInterrupt\u001b[0m                         Traceback (most recent call last)",
      "Cell \u001b[0;32mIn[12], line 20\u001b[0m\n\u001b[1;32m     18\u001b[0m     conn \u001b[39m=\u001b[39m sqlite3\u001b[39m.\u001b[39mconnect(\u001b[39m'\u001b[39m\u001b[39mweather_cal.db\u001b[39m\u001b[39m'\u001b[39m)\n\u001b[1;32m     19\u001b[0m     c \u001b[39m=\u001b[39m conn\u001b[39m.\u001b[39mcursor()\n\u001b[0;32m---> 20\u001b[0m     c\u001b[39m.\u001b[39;49mexecute(\u001b[39m'''\u001b[39;49m\u001b[39mDROP TABLE windspeed\u001b[39;49m\u001b[39m'''\u001b[39;49m)\n\u001b[1;32m     21\u001b[0m     conn\u001b[39m.\u001b[39mclose()\n\u001b[1;32m     22\u001b[0m \u001b[39mexcept\u001b[39;00m:\n",
      "\u001b[0;31mKeyboardInterrupt\u001b[0m: "
     ]
    }
   ],
   "source": [
    "try: \n",
    "    conn = sqlite3.connect('weather_cal.db')\n",
    "    c = conn.cursor()\n",
    "    c.execute('''DROP TABLE weathercode''')\n",
    "    conn.close()\n",
    "except:\n",
    "    pass\n",
    "\n",
    "try: \n",
    "    conn = sqlite3.connect('weather_cal.db')\n",
    "    c = conn.cursor()\n",
    "    c.execute('''DROP TABLE temperature''')\n",
    "    conn.close()\n",
    "except:\n",
    "    pass\n",
    "\n",
    "try: \n",
    "    conn = sqlite3.connect('weather_cal.db')\n",
    "    c = conn.cursor()\n",
    "    c.execute('''DROP TABLE windspeed''')\n",
    "    conn.close()\n",
    "except:\n",
    "    pass\n",
    "\n",
    "try: \n",
    "    conn = sqlite3.connect('weather_cal.db')\n",
    "    c = conn.cursor()\n",
    "    c.execute('''DROP TABLE current_weather''')\n",
    "    conn.close()\n",
    "except:\n",
    "    pass"
   ]
  },
  {
   "cell_type": "code",
   "execution_count": 5,
   "metadata": {},
   "outputs": [],
   "source": [
    "\n",
    "conn = sqlite3.connect('weather_cal.db')\n",
    "c = conn.cursor()\n",
    "c.execute('''DROP TABLE weathercode''')\n",
    "conn.close()\n",
    "\n",
    "conn = sqlite3.connect('weather_cal.db')\n",
    "c = conn.cursor()\n",
    "c.execute('''DROP TABLE temperature''')\n",
    "\n",
    "conn.close()\n",
    "conn = sqlite3.connect('weather_cal.db')\n",
    "c = conn.cursor()\n",
    "c.execute('''DROP TABLE windspeed''')\n",
    "conn.close()\n",
    "\n",
    "conn = sqlite3.connect('weather_cal.db')\n",
    "c = conn.cursor()\n",
    "c.execute('''DROP TABLE current_weather''')\n",
    "conn.close()\n"
   ]
  }
 ],
 "metadata": {
  "kernelspec": {
   "display_name": "weather_cal",
   "language": "python",
   "name": "python3"
  },
  "language_info": {
   "codemirror_mode": {
    "name": "ipython",
    "version": 3
   },
   "file_extension": ".py",
   "mimetype": "text/x-python",
   "name": "python",
   "nbconvert_exporter": "python",
   "pygments_lexer": "ipython3",
   "version": "3.8.16"
  },
  "orig_nbformat": 4
 },
 "nbformat": 4,
 "nbformat_minor": 2
}
