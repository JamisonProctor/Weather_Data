{
 "cells": [
  {
   "cell_type": "code",
   "execution_count": null,
   "metadata": {},
   "outputs": [],
   "source": [
    "from inspection_functions import *\n",
    "df_weather_code = preprocess_forecast('weather_cal.db', 'weathercode')\n",
    "df_temperature = preprocess_forecast('weather_cal.db', 'temperature')\n",
    "df_windspeed = preprocess_forecast('weather_cal.db', 'windspeed')\n",
    "df_current_weather = preprocess_lables('weather_cal.db', 'current_weather')"
   ]
  },
  {
   "cell_type": "code",
   "execution_count": null,
   "metadata": {},
   "outputs": [],
   "source": [
    "df_temperature.shape"
   ]
  },
  {
   "cell_type": "code",
   "execution_count": null,
   "metadata": {},
   "outputs": [],
   "source": [
    "df_temperature.head()"
   ]
  },
  {
   "cell_type": "code",
   "execution_count": null,
   "metadata": {},
   "outputs": [],
   "source": [
    "# # Add lables and take differences.\n",
    "\n",
    "# df_temperature = combine_forecast_current(df_temperature, df_current_weather, 'temperature')\n",
    "# df_windspeed = combine_forecast_current(df_windspeed, df_current_weather, 'windspeed')\n",
    "# df_weather_code = combine_forecast_current(df_weather_code, df_current_weather, 'weathercode')\n",
    "# temp_difs = label_difs(df_temperature)\n",
    "# weathercode_difs = label_difs(df_weather_code)\n",
    "# windspeed_diffs = label_difs(df_windspeed)"
   ]
  },
  {
   "cell_type": "code",
   "execution_count": null,
   "metadata": {},
   "outputs": [],
   "source": [
    "#local = 360:420\n",
    "df = df_temperature#.drop('Label', axis=1)\n",
    "df.iloc[0:10].T.plot(figsize= (30,10), legend=False)\n",
    "plt.ylim(0,30)"
   ]
  },
  {
   "cell_type": "code",
   "execution_count": null,
   "metadata": {},
   "outputs": [],
   "source": [
    "\n",
    "df = df_temperature#.drop('Label', axis=1)\n",
    "df.iloc[360:370].T.plot(figsize= (30,10), legend=False)\n",
    "plt.ylim(0,30)"
   ]
  },
  {
   "cell_type": "code",
   "execution_count": null,
   "metadata": {},
   "outputs": [],
   "source": [
    "df[719:720].index"
   ]
  },
  {
   "cell_type": "code",
   "execution_count": null,
   "metadata": {},
   "outputs": [],
   "source": [
    "df[360:361].index"
   ]
  },
  {
   "cell_type": "code",
   "execution_count": null,
   "metadata": {},
   "outputs": [],
   "source": [
    "df = temp_difs.abs()\n",
    "local = temp_difs.abs().mean(axis=1).idxmin().strftime('%Y-%m-%d %H:%M:%S')\n",
    "df.loc[local].plot(figsize= (30,10), legend=False)\n",
    "plt.ylim(0,30)"
   ]
  },
  {
   "cell_type": "code",
   "execution_count": null,
   "metadata": {},
   "outputs": [],
   "source": []
  },
  {
   "cell_type": "code",
   "execution_count": null,
   "metadata": {},
   "outputs": [],
   "source": [
    "df.shape"
   ]
  },
  {
   "cell_type": "code",
   "execution_count": null,
   "metadata": {},
   "outputs": [],
   "source": [
    "df_in = temp_difs\n",
    "Title = 'Temperature Differences Over Time' \n",
    "types= ['abs_mean', 'std', 'abs_max', 'abs_min']\n",
    "\n",
    "df = pd.DataFrame(df_in.abs().mean())\n",
    "\n",
    "df.plot(figsize=(30,6))\n",
    "plt.xlabel('Index')\n",
    "plt.ylabel('Difference')\n",
    "plt.ylim(0,25)\n",
    "plt.title(f'{Title} {types[0]}')\n",
    "plt.show\n",
    "\n",
    "df = pd.DataFrame(df_in.std())\n",
    "\n",
    "df.plot(figsize=(30,6))\n",
    "plt.xlabel('Index')\n",
    "plt.ylabel('Difference')\n",
    "plt.ylim(0,25)\n",
    "plt.title(f'{Title} {types[1]}')\n",
    "plt.show\n",
    "\n",
    "df = pd.DataFrame(df_in.abs().max())\n",
    "\n",
    "df.plot(figsize=(30,6))\n",
    "plt.xlabel('Index')\n",
    "plt.ylabel('Difference')\n",
    "plt.ylim(0,25)\n",
    "plt.title(f'{Title} {types[2]}')\n",
    "plt.show\n",
    "\n",
    "df = pd.DataFrame(df_in.abs().min())\n",
    "\n",
    "df.plot(figsize=(30,6))\n",
    "plt.xlabel('Index')\n",
    "plt.ylabel('Difference')\n",
    "plt.ylim(0,25)\n",
    "plt.title(f'{Title} {types[3]}')\n",
    "plt.show"
   ]
  },
  {
   "cell_type": "code",
   "execution_count": null,
   "metadata": {},
   "outputs": [],
   "source": [
    "df_in = windspeed_diffs\n",
    "Title = 'Windspeed Differences Over Time' \n",
    "types= ['abs_mean', 'std', 'abs_max', 'abs_min']\n",
    "\n",
    "df = pd.DataFrame(df_in.abs().mean())\n",
    "\n",
    "df.plot(figsize=(30,6))\n",
    "plt.xlabel('Index')\n",
    "plt.ylabel('Difference')\n",
    "plt.ylim(0,25)\n",
    "plt.title(f'{Title} {types[0]}')\n",
    "plt.show\n",
    "\n",
    "df = pd.DataFrame(df_in.std())\n",
    "\n",
    "df.plot(figsize=(30,6))\n",
    "plt.xlabel('Index')\n",
    "plt.ylabel('Difference')\n",
    "plt.ylim(0,25)\n",
    "plt.title(f'{Title} {types[1]}')\n",
    "plt.show\n",
    "\n",
    "df = pd.DataFrame(df_in.abs().max())\n",
    "\n",
    "df.plot(figsize=(30,6))\n",
    "plt.xlabel('Index')\n",
    "plt.ylabel('Difference')\n",
    "plt.ylim(0,25)\n",
    "plt.title(f'{Title} {types[2]}')\n",
    "plt.show\n",
    "\n",
    "df = pd.DataFrame(df_in.abs().min())\n",
    "\n",
    "df.plot(figsize=(30,6))\n",
    "plt.xlabel('Index')\n",
    "plt.ylabel('Difference')\n",
    "plt.ylim(0,25)\n",
    "plt.title(f'{Title} {types[3]}')\n",
    "plt.show"
   ]
  },
  {
   "cell_type": "code",
   "execution_count": null,
   "metadata": {},
   "outputs": [],
   "source": [
    "df = pd.DataFrame(weathercode_difs.mean())\n",
    "\n",
    "df.plot(figsize=(30,6))\n",
    "plt.xlabel('Index')\n",
    "plt.ylabel('Difference')\n",
    "#plt.title(f'{Title}')\n",
    "plt.show"
   ]
  }
 ],
 "metadata": {
  "kernelspec": {
   "display_name": "weather_cal",
   "language": "python",
   "name": "python3"
  },
  "language_info": {
   "codemirror_mode": {
    "name": "ipython",
    "version": 3
   },
   "file_extension": ".py",
   "mimetype": "text/x-python",
   "name": "python",
   "nbconvert_exporter": "python",
   "pygments_lexer": "ipython3",
   "version": "3.8.16"
  },
  "orig_nbformat": 4
 },
 "nbformat": 4,
 "nbformat_minor": 2
}
